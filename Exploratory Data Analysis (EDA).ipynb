import pandas as pd
import numpy as np  
import matplotlib.pyplot as plt 
import seaborn as sns   

data = pd.read_csv(r"C:\Users\David gathara marigi\Downloads\Bank_Churn.csv")  
print(data.head(6))
print(data.isna().sum())#it has no missing values
print(data.duplicated().sum())